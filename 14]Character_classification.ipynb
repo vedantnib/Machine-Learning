{
  "nbformat": 4,
  "nbformat_minor": 0,
  "metadata": {
    "colab": {
      "name": "14]Character_classification.ipynb",
      "provenance": [],
      "collapsed_sections": [],
      "authorship_tag": "ABX9TyMBTOn5y9V6zqDMIMOZ5u45",
      "include_colab_link": true
    },
    "kernelspec": {
      "name": "python3",
      "display_name": "Python 3"
    }
  },
  "cells": [
    {
      "cell_type": "markdown",
      "metadata": {
        "id": "view-in-github",
        "colab_type": "text"
      },
      "source": [
        "<a href=\"https://colab.research.google.com/github/vedantnib/Machine-Learning/blob/master/14%5DCharacter_classification.ipynb\" target=\"_parent\"><img src=\"https://colab.research.google.com/assets/colab-badge.svg\" alt=\"Open In Colab\"/></a>"
      ]
    },
    {
      "cell_type": "markdown",
      "metadata": {
        "id": "sSN_hGIGG7C_",
        "colab_type": "text"
      },
      "source": [
        "#Handwritten digits"
      ]
    },
    {
      "cell_type": "code",
      "metadata": {
        "id": "60c7s3B3N0f-",
        "colab_type": "code",
        "colab": {
          "base_uri": "https://localhost:8080/",
          "height": 35
        },
        "outputId": "ece6a673-6e6b-486e-ce5c-3b75acf6e8a7"
      },
      "source": [
        "from sklearn.datasets import fetch_openml\n",
        "data=fetch_openml('mnist_784', version=1)\n",
        "X,y=data.data,data.target\n",
        "#print(X)\n",
        "print(y)"
      ],
      "execution_count": null,
      "outputs": [
        {
          "output_type": "stream",
          "text": [
            "['5' '0' '4' ... '4' '5' '6']\n"
          ],
          "name": "stdout"
        }
      ]
    },
    {
      "cell_type": "code",
      "metadata": {
        "id": "Mhoth3isGcCy",
        "colab_type": "code",
        "colab": {}
      },
      "source": [
        "from sklearn.datasets import fetch_openml\n",
        "from sklearn.pipeline import Pipeline\n",
        "from sklearn.preprocessing import scale\n",
        "from sklearn.model_selection import train_test_split,GridSearchCV\n",
        "from sklearn.svm import SVC\n",
        "from sklearn.metrics import classification_report\n",
        "if __name__=='__main__':\n",
        "  data=fetch_openml('mnist_784', version=1)\n",
        "  X,y=data.data,data.target\n",
        "  X=X/255.0*2 - 1\n",
        "  X_train,X_test,y_train,y_test=train_test_split(X,y)\n",
        "  pipeline=Pipeline([\n",
        "                     ('clf',SVC(kernel='rbf',gamma=0.01,C=100))\n",
        "  ])\n",
        "  print(X_train.shape)\n",
        "  parameters={\n",
        "      'clf__gamma':(0.01,0.03,0.1,0.3,1),\n",
        "      'clf__C':(0.1,0.3,1,3,10,30),\n",
        "      }\n",
        "  grid_search=GridSearchCV(pipeline,parameters,n_jobs=2,verbose=1,scoring='accuracy')\n",
        "  grid_search.fit(X_train[:10000],y_train[:10000])\n",
        "  print(\"Best score: %0.3f\" %grid_search.best_score_)\n",
        "  print(\"Best scores parameters set: \")\n",
        "  best_parameters=grid_search.best_estimator_.get_params() #The .best_estimator_ attribute is an instance of the specified model type,\n",
        "  # which has the 'best' combination of given parameters from the param_grid. \n",
        "  for param_name in sorted(parameters.keys()):\n",
        "    print('\\t%s: %r'%(param_name,best_parameters[param_name]))\n",
        "  predictions=grid_search.predict(X_test)\n",
        "  print(classification_report(y_test,predictions))"
      ],
      "execution_count": null,
      "outputs": []
    }
  ]
}