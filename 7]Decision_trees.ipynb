{
  "nbformat": 4,
  "nbformat_minor": 0,
  "metadata": {
    "colab": {
      "name": "7]Decision_trees.ipynb",
      "provenance": [],
      "collapsed_sections": [],
      "authorship_tag": "ABX9TyPuUOSt7wD98OArSql2RqP3",
      "include_colab_link": true
    },
    "kernelspec": {
      "name": "python3",
      "display_name": "Python 3"
    }
  },
  "cells": [
    {
      "cell_type": "markdown",
      "metadata": {
        "id": "view-in-github",
        "colab_type": "text"
      },
      "source": [
        "<a href=\"https://colab.research.google.com/github/vedantnib/Machine-Learning/blob/master/7%5DDecision_trees.ipynb\" target=\"_parent\"><img src=\"https://colab.research.google.com/assets/colab-badge.svg\" alt=\"Open In Colab\"/></a>"
      ]
    },
    {
      "cell_type": "markdown",
      "metadata": {
        "id": "kZHTWFHfgGY3",
        "colab_type": "text"
      },
      "source": [
        "We will discuss a simple, non-linear model for classification and regression taks: the decision tree. We'll use ***decision trees*** to build an adblocker that can learn to to classify images on a web page as banner advertisements or page content. We will introduce ensemble learning methods, which combine a set of models to produce an estimator with better predictive performance than any of its component estimators.\n",
        "\n"
      ]
    },
    {
      "cell_type": "markdown",
      "metadata": {
        "id": "QeuUZHfwShqy",
        "colab_type": "text"
      },
      "source": [
        "for moving forward with Decision trees, we need to understand the concepts of Gini-impurity and information gain. \n",
        "For Gini impurity, refer the article: https://victorzhou.com/blog/gini-impurity/\n"
      ]
    },
    {
      "cell_type": "markdown",
      "metadata": {
        "id": "FoBbmmXWTVI1",
        "colab_type": "text"
      },
      "source": [
        "Let's create an adblocker that predicts if an image on a web page is an article or an advertisement. We'll use the Advertisements dataset from UCI ML archives repo: https://archive.ics.uci.edu/ml/machine-learning-databases/internet_ads/"
      ]
    },
    {
      "cell_type": "code",
      "metadata": {
        "id": "4GL9vi4gf-b_",
        "colab_type": "code",
        "colab": {
          "base_uri": "https://localhost:8080/",
          "height": 471
        },
        "outputId": "93ec0e2d-f457-446b-e198-9edaad7de101"
      },
      "source": [
        "import pandas as pd\n",
        "from sklearn.tree import DecisionTreeClassifier\n",
        "from sklearn.model_selection import train_test_split,GridSearchCV\n",
        "from sklearn.metrics import classification_report\n",
        "from sklearn.pipeline import Pipeline\n",
        "if __name__=='__main__':\n",
        "  df=pd.read_csv('/content/ad.data',header=None)\n",
        "  #print(df.head())\n",
        "  explanatory_variable_columns=set(df.columns.values)\n",
        "  response_variable_column=df[len(df.columns.values)-1]\n",
        "  explanatory_variable_columns.remove(len(df.columns.values)-1)\n",
        "  y=[1 if e=='ad.' else 0 for e in response_variable_column]\n",
        "  X=df[list(explanatory_variable_columns)]\n",
        "  X.replace(to_replace=' *\\?', value=-1, regex=True, inplace=True)\n",
        "  X_train, X_test, y_train, y_test=train_test_split(X,y)\n",
        "  pipeline=Pipeline([\n",
        "                     ('clf',DecisionTreeClassifier(criterion='entropy'))\n",
        "  ])\n",
        "  parameters={\n",
        "      'clf__max_depth': (150,155,160),\n",
        "      'clf__min_samples_split':(1,2,3),\n",
        "      'clf__min_samples_leaf':(1,2,3)\n",
        "  }\n",
        "  grid_search=GridSearchCV(pipeline,parameters,n_jobs=3,verbose=1,scoring='f1')\n",
        "  grid_search.fit(X_train,y_train)\n",
        "  print(\"Best score: %0.3f\" %grid_search.best_score_)\n",
        "  print(\"Best scores parameters set: \")\n",
        "  best_parameters=grid_search.best_estimator_.get_params() #The .best_estimator_ attribute is an instance of the specified model type,\n",
        "  # which has the 'best' combination of given parameters from the param_grid. \n",
        "  for param_name in sorted(parameters.keys()):\n",
        "    print('\\t%s: %r'%(param_name,best_parameters[param_name]))\n",
        "  predictions=grid_search.predict(X_test)\n",
        "  print(classification_report(y_test,predictions))"
      ],
      "execution_count": null,
      "outputs": [
        {
          "output_type": "stream",
          "text": [
            "Fitting 5 folds for each of 27 candidates, totalling 135 fits\n"
          ],
          "name": "stdout"
        },
        {
          "output_type": "stream",
          "text": [
            "/usr/local/lib/python3.6/dist-packages/IPython/core/interactiveshell.py:2718: DtypeWarning: Columns (3) have mixed types.Specify dtype option on import or set low_memory=False.\n",
            "  interactivity=interactivity, compiler=compiler, result=result)\n",
            "/usr/local/lib/python3.6/dist-packages/pandas/core/frame.py:4172: SettingWithCopyWarning: \n",
            "A value is trying to be set on a copy of a slice from a DataFrame\n",
            "\n",
            "See the caveats in the documentation: https://pandas.pydata.org/pandas-docs/stable/user_guide/indexing.html#returning-a-view-versus-a-copy\n",
            "  method=method,\n",
            "[Parallel(n_jobs=3)]: Using backend LokyBackend with 3 concurrent workers.\n",
            "[Parallel(n_jobs=3)]: Done  44 tasks      | elapsed:   14.0s\n",
            "[Parallel(n_jobs=3)]: Done 135 out of 135 | elapsed:   38.1s finished\n"
          ],
          "name": "stderr"
        },
        {
          "output_type": "stream",
          "text": [
            "Best score: 0.882\n",
            "Best scores parameters set: \n",
            "\tclf__max_depth: 160\n",
            "\tclf__min_samples_leaf: 2\n",
            "\tclf__min_samples_split: 2\n",
            "              precision    recall  f1-score   support\n",
            "\n",
            "           0       0.97      0.99      0.98       699\n",
            "           1       0.93      0.81      0.87       121\n",
            "\n",
            "    accuracy                           0.96       820\n",
            "   macro avg       0.95      0.90      0.92       820\n",
            "weighted avg       0.96      0.96      0.96       820\n",
            "\n"
          ],
          "name": "stdout"
        }
      ]
    },
    {
      "cell_type": "markdown",
      "metadata": {
        "id": "ZBoY5hgZhKh7",
        "colab_type": "text"
      },
      "source": [
        "# ***Tree Ensembles***\n"
      ]
    },
    {
      "cell_type": "code",
      "metadata": {
        "id": "TR_h1chlhuMr",
        "colab_type": "code",
        "colab": {
          "base_uri": "https://localhost:8080/",
          "height": 523
        },
        "outputId": "82f9648f-5f68-44d6-c997-ec9c9288a4d1"
      },
      "source": [
        "import pandas as pd\n",
        "from sklearn.ensemble import RandomForestClassifier\n",
        "from sklearn.model_selection import train_test_split,GridSearchCV\n",
        "from sklearn.metrics import classification_report\n",
        "from sklearn.pipeline import Pipeline\n",
        "if __name__=='__main__':\n",
        "  df=pd.read_csv('/content/ad.data',header=None)\n",
        "  #print(df.head())\n",
        "  explanatory_variable_columns=set(df.columns.values)\n",
        "  response_variable_column=df[len(df.columns.values)-1]\n",
        "  explanatory_variable_columns.remove(len(df.columns.values)-1)\n",
        "  y=[1 if e=='ad.' else 0 for e in response_variable_column]\n",
        "  X=df[list(explanatory_variable_columns)]\n",
        "  X.replace(to_replace=' *\\?', value=-1, regex=True, inplace=True)\n",
        "  X_train, X_test, y_train, y_test=train_test_split(X,y)\n",
        "  pipeline=Pipeline([\n",
        "                     ('clf',RandomForestClassifier(criterion='entropy'))\n",
        "  ])\n",
        "  parameters={\n",
        "      'clf__n_estimators':(5,10,20,50),\n",
        "      'clf__max_depth': (50,150,250),\n",
        "      'clf__min_samples_split':(1,2,3),\n",
        "      'clf__min_samples_leaf':(1,2,3)\n",
        "  }\n",
        "  grid_search=GridSearchCV(pipeline,parameters,n_jobs=3,verbose=1,scoring='f1')\n",
        "  grid_search.fit(X_train,y_train)\n",
        "  print(\"Best score: %0.3f\" %grid_search.best_score_)\n",
        "  print(\"Best scores parameters set: \")\n",
        "  best_parameters=grid_search.best_estimator_.get_params() #The .best_estimator_ attribute is an instance of the specified model type,\n",
        "  # which has the 'best' combination of given parameters from the param_grid. \n",
        "  for param_name in sorted(parameters.keys()):\n",
        "    print('\\t%s: %r'%(param_name,best_parameters[param_name]))\n",
        "  predictions=grid_search.predict(X_test)\n",
        "  print(classification_report(y_test,predictions))"
      ],
      "execution_count": null,
      "outputs": [
        {
          "output_type": "stream",
          "text": [
            "/usr/local/lib/python3.6/dist-packages/IPython/core/interactiveshell.py:2718: DtypeWarning: Columns (3) have mixed types.Specify dtype option on import or set low_memory=False.\n",
            "  interactivity=interactivity, compiler=compiler, result=result)\n"
          ],
          "name": "stderr"
        },
        {
          "output_type": "stream",
          "text": [
            "Fitting 5 folds for each of 108 candidates, totalling 540 fits\n"
          ],
          "name": "stdout"
        },
        {
          "output_type": "stream",
          "text": [
            "/usr/local/lib/python3.6/dist-packages/pandas/core/frame.py:4172: SettingWithCopyWarning: \n",
            "A value is trying to be set on a copy of a slice from a DataFrame\n",
            "\n",
            "See the caveats in the documentation: https://pandas.pydata.org/pandas-docs/stable/user_guide/indexing.html#returning-a-view-versus-a-copy\n",
            "  method=method,\n",
            "[Parallel(n_jobs=3)]: Using backend LokyBackend with 3 concurrent workers.\n",
            "[Parallel(n_jobs=3)]: Done  44 tasks      | elapsed:   12.7s\n",
            "[Parallel(n_jobs=3)]: Done 194 tasks      | elapsed:   50.6s\n",
            "[Parallel(n_jobs=3)]: Done 444 tasks      | elapsed:  1.9min\n",
            "[Parallel(n_jobs=3)]: Done 540 out of 540 | elapsed:  2.4min finished\n"
          ],
          "name": "stderr"
        },
        {
          "output_type": "stream",
          "text": [
            "Best score: 0.907\n",
            "Best scores parameters set: \n",
            "\tclf__max_depth: 250\n",
            "\tclf__min_samples_leaf: 1\n",
            "\tclf__min_samples_split: 2\n",
            "\tclf__n_estimators: 50\n",
            "              precision    recall  f1-score   support\n",
            "\n",
            "           0       0.99      1.00      0.99       699\n",
            "           1       0.98      0.92      0.95       121\n",
            "\n",
            "    accuracy                           0.99       820\n",
            "   macro avg       0.98      0.96      0.97       820\n",
            "weighted avg       0.99      0.99      0.99       820\n",
            "\n"
          ],
          "name": "stdout"
        }
      ]
    }
  ]
}