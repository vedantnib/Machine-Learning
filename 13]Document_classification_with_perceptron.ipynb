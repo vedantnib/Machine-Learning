{
  "nbformat": 4,
  "nbformat_minor": 0,
  "metadata": {
    "colab": {
      "name": "13]Document classification with perceptron.ipynb",
      "provenance": [],
      "collapsed_sections": [],
      "authorship_tag": "ABX9TyPsl9ICe0Jl2Ih+ZXEBL+hy",
      "include_colab_link": true
    },
    "kernelspec": {
      "name": "python3",
      "display_name": "Python 3"
    }
  },
  "cells": [
    {
      "cell_type": "markdown",
      "metadata": {
        "id": "view-in-github",
        "colab_type": "text"
      },
      "source": [
        "<a href=\"https://colab.research.google.com/github/vedantnib/Machine-Learning/blob/master/13%5DDocument_classification_with_perceptron.ipynb\" target=\"_parent\"><img src=\"https://colab.research.google.com/assets/colab-badge.svg\" alt=\"Open In Colab\"/></a>"
      ]
    },
    {
      "cell_type": "code",
      "metadata": {
        "id": "2Z33C8DLVqgL",
        "colab_type": "code",
        "colab": {
          "base_uri": "https://localhost:8080/",
          "height": 191
        },
        "outputId": "54e29b9b-8579-4ae3-ab7a-01c453f4fa7e"
      },
      "source": [
        "from sklearn.datasets import fetch_20newsgroups\n",
        "from sklearn.metrics import f1_score,classification_report\n",
        "from sklearn.feature_extraction.text import TfidfVectorizer\n",
        "from sklearn.linear_model import Perceptron\n",
        "\n",
        "categories=['rec.sport.hockey','rec.sport.baseball','rec.autos']\n",
        "newsgroups_train=fetch_20newsgroups(subset='train',categories=categories,remove=('headers','footers','quotes'))\n",
        "newsgroups_test=fetch_20newsgroups(subset='test',categories=categories,remove=('headers','footers','quotes'))\n",
        "vectorizer=TfidfVectorizer()\n",
        "X_train=vectorizer.fit_transform(newsgroups_train.data)\n",
        "X_test=vectorizer.transform(newsgroups_test.data)\n",
        "classifier=Perceptron(max_iter=100,eta0=0.1)\n",
        "classifier.fit(X_train,newsgroups_train.target)\n",
        "predictions=classifier.predict(X_test)\n",
        "print(classification_report(newsgroups_test.target,predictions))"
      ],
      "execution_count": null,
      "outputs": [
        {
          "output_type": "stream",
          "text": [
            "              precision    recall  f1-score   support\n",
            "\n",
            "           0       0.87      0.92      0.89       396\n",
            "           1       0.87      0.82      0.84       397\n",
            "           2       0.88      0.88      0.88       399\n",
            "\n",
            "    accuracy                           0.87      1192\n",
            "   macro avg       0.87      0.87      0.87      1192\n",
            "weighted avg       0.87      0.87      0.87      1192\n",
            "\n"
          ],
          "name": "stdout"
        }
      ]
    }
  ]
}