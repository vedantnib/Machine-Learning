{
  "nbformat": 4,
  "nbformat_minor": 0,
  "metadata": {
    "colab": {
      "name": "15]Classifying handwritten digits with ANN.ipynb",
      "provenance": [],
      "collapsed_sections": [],
      "authorship_tag": "ABX9TyMua1+JdffNXVwqYj9SfoNA"
    },
    "kernelspec": {
      "name": "python3",
      "display_name": "Python 3"
    }
  },
  "cells": [
    {
      "cell_type": "markdown",
      "metadata": {
        "id": "BXZM55Zwixuy",
        "colab_type": "text"
      },
      "source": [
        "# *For XOR*"
      ]
    },
    {
      "cell_type": "code",
      "metadata": {
        "id": "Gv23Xzt-ixV_",
        "colab_type": "code",
        "colab": {
          "base_uri": "https://localhost:8080/",
          "height": 208
        },
        "outputId": "5a9b7050-0543-44b8-ccca-ffc98d9b3f0c"
      },
      "source": [
        "from sklearn.model_selection import train_test_split\n",
        "from sklearn.neural_network import MLPClassifier\n",
        "y=[0,1,1,0]*90000\n",
        "X=[[0,0],[0,1],[1,0],[1,1]]*90000\n",
        "X_train,X_test,y_train,y_test=train_test_split(X,y,random_state=3)\n",
        "clf=MLPClassifier(hidden_layer_sizes=[10],activation='relu',solver='sgd',random_state=3)\n",
        "clf.fit(X_train,y_train)\n",
        "predictions=clf.predict(X_test)\n",
        "print(\"Accuracy: \",clf.score(X_test,y_test))\n",
        "for i,p in enumerate(predictions[:10]):\n",
        "  print(\"True: %s, Predicted: %s\"%(y_test[i],p))\n"
      ],
      "execution_count": null,
      "outputs": [
        {
          "output_type": "stream",
          "text": [
            "Accuracy:  1.0\n",
            "True: 0, Predicted: 0\n",
            "True: 1, Predicted: 1\n",
            "True: 1, Predicted: 1\n",
            "True: 0, Predicted: 0\n",
            "True: 1, Predicted: 1\n",
            "True: 0, Predicted: 0\n",
            "True: 1, Predicted: 1\n",
            "True: 1, Predicted: 1\n",
            "True: 0, Predicted: 0\n",
            "True: 1, Predicted: 1\n"
          ],
          "name": "stdout"
        }
      ]
    },
    {
      "cell_type": "markdown",
      "metadata": {
        "id": "KIFlI4nzi4p4",
        "colab_type": "text"
      },
      "source": [
        "# ***For Digit Classification***"
      ]
    },
    {
      "cell_type": "code",
      "metadata": {
        "id": "nt7cogy_hFO8",
        "colab_type": "code",
        "colab": {
          "base_uri": "https://localhost:8080/",
          "height": 35
        },
        "outputId": "99917e6e-6eb8-4192-c868-232ec4d00a3a"
      },
      "source": [
        "from sklearn.datasets import load_digits\n",
        "from sklearn.model_selection import train_test_split,cross_val_score\n",
        "from sklearn.pipeline import Pipeline\n",
        "from sklearn.preprocessing import StandardScaler\n",
        "from sklearn.neural_network._multilayer_perceptron import MLPClassifier\n",
        "\n",
        "if __name__=='__main__':\n",
        "  digits=load_digits()\n",
        "  X=digits.data\n",
        "  y=digits.target\n",
        "  pipeline=Pipeline([\n",
        "                     ('ss',StandardScaler()),\n",
        "                     ('mlp',MLPClassifier(hidden_layer_sizes=[150,100],alpha=0.1))\n",
        "  ])\n",
        "  print(\"Accuracies: \",cross_val_score(pipeline,X,y,n_jobs=-1))"
      ],
      "execution_count": null,
      "outputs": [
        {
          "output_type": "stream",
          "text": [
            "Accuracies:  [0.93611111 0.925      0.95543175 0.97771588 0.93036212]\n"
          ],
          "name": "stdout"
        }
      ]
    }
  ]
}