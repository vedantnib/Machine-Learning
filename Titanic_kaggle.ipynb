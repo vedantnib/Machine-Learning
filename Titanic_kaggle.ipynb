{
  "nbformat": 4,
  "nbformat_minor": 0,
  "metadata": {
    "colab": {
      "name": "Titanic_kaggle.ipynb",
      "provenance": [],
      "collapsed_sections": [],
      "authorship_tag": "ABX9TyOkej3c7WU/eMfGuoZBvINB"
    },
    "kernelspec": {
      "name": "python3",
      "display_name": "Python 3"
    }
  },
  "cells": [
    {
      "cell_type": "code",
      "metadata": {
        "id": "alFtLIp0rYyg",
        "colab_type": "code",
        "colab": {
          "base_uri": "https://localhost:8080/",
          "height": 312
        },
        "outputId": "5cdd78e2-1782-455a-a05b-97dc6275f97a"
      },
      "source": [
        "import pandas as pd\n",
        "import numpy as np\n",
        "from sklearn.ensemble import RandomForestClassifier\n",
        "from sklearn.model_selection import train_test_split,GridSearchCV\n",
        "from sklearn.metrics import classification_report\n",
        "from sklearn.pipeline import Pipeline\n",
        "from sklearn.preprocessing import LabelEncoder\n",
        "df1=pd.read_csv('/content/train.csv')\n",
        "df2=pd.read_csv('/content/test.csv')\n",
        "#print(df1.head(10))\n",
        "#print(df1.info())\n",
        "#print(df1['Cabin'])\n",
        "#print(df1['Embarked'].value_counts())\n",
        "df1=df1.drop(['PassengerId'],axis=1)\n",
        "df1=df1.drop(['Name'],axis=1)\n",
        "rep={'S':0,'C':1,'Q':2}\n",
        "df1['Embarked']=df1['Embarked'].map(rep)\n",
        "median=df1['Embarked'].median()\n",
        "df1['Embarked'].fillna(median, inplace=True)\n",
        "df1['Embarked']=df1['Embarked'].astype(int)\n",
        "#print(df1.info())\n",
        "\n",
        "\n",
        "#print(df2.info())\n",
        "#print(df2['Embarked'].value_counts())\n",
        "rep2={'S':0,'C':1,'Q':2}\n",
        "df2['Embarked']=df2['Embarked'].map(rep2)\n",
        "#print(df2.info())\n",
        "df3=df2['PassengerId']\n",
        "df2=df2.drop(['PassengerId'],axis=1)\n",
        "df2=df2.drop(['Name'],axis=1)\n",
        "med=df2['Fare'].median()\n",
        "df2['Fare'].fillna(med, inplace=True)\n",
        "#print(df2.info())\n",
        "df1=df1.drop(['Cabin'],axis=1)\n",
        "df2=df2.drop(['Cabin'],axis=1)\n",
        "#print(df1.info())\n",
        "#print(df2.info())\n",
        "#print(df3)\n",
        "rep3={'male':0,'female':1}\n",
        "df1['Sex']=df1['Sex'].map(rep3)\n",
        "df2['Sex']=df2['Sex'].map(rep3)\n",
        "#print(df1['Sex'].value_counts())\n",
        "#print(df2['Sex'].value_counts())\n",
        "med1=df1['Age'].median()\n",
        "df1['Age'].fillna(med1,inplace=True)\n",
        "med2=df2['Age'].median()\n",
        "df2['Age'].fillna(med2,inplace=True)\n",
        "#print(df1.info())\n",
        "#print(df2.info())\n",
        "#laben=LabelEncoder()\n",
        "df1['Ticket'] = laben.fit_transform(df1['Ticket'])\n",
        "df2['Ticket'] = laben.fit_transform(df2['Ticket'])\n",
        "#print(df1['Ticket'])\n",
        "#df1=df1.drop(['Ticket'],axis=1)\n",
        "#df2=df2.drop(['Ticket'],axis=1)\n",
        "y=df1['Survived']\n",
        "X=df1.drop(['Survived'],axis=1)\n",
        "#print(X)\n",
        "#print(y)\n",
        "X_train=X\n",
        "y_train=y\n",
        "X_test=df2.copy()\n",
        "pipeline=Pipeline([\n",
        "                   ('clf',RandomForestClassifier(criterion='entropy'))\n",
        "  ])\n",
        "parameters={\n",
        "    'clf__n_estimators':(5,10,20,50,100,150,200),\n",
        "    'clf__max_depth': (25,50,150,250,300,350),\n",
        "    'clf__min_samples_split':(1,2,3,4,5,6),\n",
        "    'clf__min_samples_leaf':(1,2,3,4,5,6)\n",
        "  }\n",
        "grid_search=GridSearchCV(pipeline,parameters,n_jobs=-1,verbose=1,scoring='f1')\n",
        "grid_search.fit(X_train,y_train)\n",
        "print(\"Best score: %0.3f\" %grid_search.best_score_)\n",
        "print(\"Best scores parameters set: \")\n",
        "best_parameters=grid_search.best_estimator_.get_params() \n",
        "for param_name in sorted(parameters.keys()):\n",
        "  print('\\t%s: %r'%(param_name,best_parameters[param_name]))\n",
        "predictions=grid_search.predict(X_test)\n",
        "\n",
        "\n",
        "\n"
      ],
      "execution_count": 5,
      "outputs": [
        {
          "output_type": "stream",
          "text": [
            "Fitting 5 folds for each of 1512 candidates, totalling 7560 fits\n"
          ],
          "name": "stdout"
        },
        {
          "output_type": "stream",
          "text": [
            "[Parallel(n_jobs=-1)]: Using backend LokyBackend with 2 concurrent workers.\n",
            "[Parallel(n_jobs=-1)]: Done 132 tasks      | elapsed:   11.3s\n",
            "[Parallel(n_jobs=-1)]: Done 412 tasks      | elapsed:   40.1s\n",
            "[Parallel(n_jobs=-1)]: Done 972 tasks      | elapsed:  1.5min\n",
            "[Parallel(n_jobs=-1)]: Done 1672 tasks      | elapsed:  2.7min\n",
            "[Parallel(n_jobs=-1)]: Done 2572 tasks      | elapsed:  4.1min\n",
            "[Parallel(n_jobs=-1)]: Done 3672 tasks      | elapsed:  5.9min\n",
            "[Parallel(n_jobs=-1)]: Done 4972 tasks      | elapsed:  7.9min\n",
            "[Parallel(n_jobs=-1)]: Done 6472 tasks      | elapsed: 10.4min\n"
          ],
          "name": "stderr"
        },
        {
          "output_type": "stream",
          "text": [
            "Best score: 0.777\n",
            "Best scores parameters set: \n",
            "\tclf__max_depth: 50\n",
            "\tclf__min_samples_leaf: 3\n",
            "\tclf__min_samples_split: 6\n",
            "\tclf__n_estimators: 20\n"
          ],
          "name": "stdout"
        },
        {
          "output_type": "stream",
          "text": [
            "[Parallel(n_jobs=-1)]: Done 7560 out of 7560 | elapsed: 12.1min finished\n"
          ],
          "name": "stderr"
        }
      ]
    },
    {
      "cell_type": "code",
      "metadata": {
        "id": "y_Hk1RZGbPfh",
        "colab_type": "code",
        "colab": {
          "base_uri": "https://localhost:8080/",
          "height": 208
        },
        "outputId": "eeb7c622-2501-4759-9ad7-3e28a53154a4"
      },
      "source": [
        "df4=pd.Series(predictions)\n",
        "dff=pd.DataFrame(columns = ['PassengerId', 'Survived'])\n",
        "dff['PassengerId']=df3\n",
        "dff['Survived']=df4\n",
        "print(dff.head(10))\n",
        "dff.to_csv(\"/content/titanic_new.csv\",index=False)\n",
        "dff.to_csv(\"/content/gender_prediction.csv\",index=False,header=1)"
      ],
      "execution_count": 6,
      "outputs": [
        {
          "output_type": "stream",
          "text": [
            "   PassengerId  Survived\n",
            "0          892         0\n",
            "1          893         0\n",
            "2          894         0\n",
            "3          895         0\n",
            "4          896         0\n",
            "5          897         0\n",
            "6          898         1\n",
            "7          899         0\n",
            "8          900         1\n",
            "9          901         0\n"
          ],
          "name": "stdout"
        }
      ]
    }
  ]
}