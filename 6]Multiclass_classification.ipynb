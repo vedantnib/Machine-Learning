{
  "nbformat": 4,
  "nbformat_minor": 0,
  "metadata": {
    "colab": {
      "name": "6]Multiclass_classification.ipynb",
      "provenance": [],
      "collapsed_sections": [],
      "authorship_tag": "ABX9TyOtAokoOPGMsOYbVlCZSEqT",
      "include_colab_link": true
    },
    "kernelspec": {
      "name": "python3",
      "display_name": "Python 3"
    }
  },
  "cells": [
    {
      "cell_type": "markdown",
      "metadata": {
        "id": "view-in-github",
        "colab_type": "text"
      },
      "source": [
        "<a href=\"https://colab.research.google.com/github/vedantnib/Machine-Learning/blob/master/6%5DMulticlass_classification.ipynb\" target=\"_parent\"><img src=\"https://colab.research.google.com/assets/colab-badge.svg\" alt=\"Open In Colab\"/></a>"
      ]
    },
    {
      "cell_type": "code",
      "metadata": {
        "id": "omdixoA0wkkN",
        "colab_type": "code",
        "colab": {
          "base_uri": "https://localhost:8080/",
          "height": 104
        },
        "outputId": "b05d92e8-a088-4738-a742-28c171a2fb47"
      },
      "source": [
        "import pandas as pd\n",
        "df=pd.read_csv('/content/train.tsv',header=0,delimiter='\\t')\n",
        "print(df.count())\n"
      ],
      "execution_count": null,
      "outputs": [
        {
          "output_type": "stream",
          "text": [
            "PhraseId      156060\n",
            "SentenceId    156060\n",
            "Phrase        156060\n",
            "Sentiment     156060\n",
            "dtype: int64\n"
          ],
          "name": "stdout"
        }
      ]
    },
    {
      "cell_type": "code",
      "metadata": {
        "id": "2aQ6si3g2UK3",
        "colab_type": "code",
        "colab": {
          "base_uri": "https://localhost:8080/",
          "height": 503
        },
        "outputId": "2383ca87-8907-4076-ad8a-f3592a7c93c9"
      },
      "source": [
        "print(df.head())\n",
        "print(df['Phrase'].head(10)) #examining raw text, explanatory variable\n",
        "print(df['Sentiment'].describe()) #examining the target class\n",
        "#0: negative\n",
        "#1: Somewhat negative\n",
        "#2:neutral\n",
        "#3: somewhat positive\n",
        "#4: positive"
      ],
      "execution_count": null,
      "outputs": [
        {
          "output_type": "stream",
          "text": [
            "   PhraseId  ...  Sentiment\n",
            "0         1  ...          1\n",
            "1         2  ...          2\n",
            "2         3  ...          2\n",
            "3         4  ...          2\n",
            "4         5  ...          2\n",
            "\n",
            "[5 rows x 4 columns]\n",
            "0    A series of escapades demonstrating the adage ...\n",
            "1    A series of escapades demonstrating the adage ...\n",
            "2                                             A series\n",
            "3                                                    A\n",
            "4                                               series\n",
            "5    of escapades demonstrating the adage that what...\n",
            "6                                                   of\n",
            "7    escapades demonstrating the adage that what is...\n",
            "8                                            escapades\n",
            "9    demonstrating the adage that what is good for ...\n",
            "Name: Phrase, dtype: object\n",
            "count    156060.000000\n",
            "mean          2.063578\n",
            "std           0.893832\n",
            "min           0.000000\n",
            "25%           2.000000\n",
            "50%           2.000000\n",
            "75%           3.000000\n",
            "max           4.000000\n",
            "Name: Sentiment, dtype: float64\n"
          ],
          "name": "stdout"
        }
      ]
    },
    {
      "cell_type": "code",
      "metadata": {
        "id": "ybGPxaGT4e59",
        "colab_type": "code",
        "colab": {
          "base_uri": "https://localhost:8080/",
          "height": 225
        },
        "outputId": "098179aa-3ebf-44e3-e5a7-aedfc37b930a"
      },
      "source": [
        "#examining instances of target class\n",
        "print(df['Sentiment'].value_counts())\n",
        "print(df['Sentiment'].value_counts()/df['Sentiment'].count())"
      ],
      "execution_count": null,
      "outputs": [
        {
          "output_type": "stream",
          "text": [
            "2    79582\n",
            "3    32927\n",
            "1    27273\n",
            "4     9206\n",
            "0     7072\n",
            "Name: Sentiment, dtype: int64\n",
            "2    0.509945\n",
            "3    0.210989\n",
            "1    0.174760\n",
            "4    0.058990\n",
            "0    0.045316\n",
            "Name: Sentiment, dtype: float64\n"
          ],
          "name": "stdout"
        }
      ]
    },
    {
      "cell_type": "code",
      "metadata": {
        "id": "HqPV7Acu51vk",
        "colab_type": "code",
        "colab": {
          "base_uri": "https://localhost:8080/",
          "height": 641
        },
        "outputId": "77e84b69-cc2e-41cc-f8ca-933ae1bc17d4"
      },
      "source": [
        "import pandas as pd\n",
        "from sklearn.feature_extraction.text import TfidfVectorizer\n",
        "from sklearn.linear_model.logistic import LogisticRegression\n",
        "from sklearn.model_selection import train_test_split\n",
        "from sklearn.model_selection import GridSearchCV\n",
        "from sklearn.pipeline import Pipeline\n",
        "from sklearn.metrics import confusion_matrix,accuracy_score,classification_report\n",
        "def main():\n",
        "  pipeline=Pipeline([\n",
        "                     ('vect', TfidfVectorizer(stop_words='english')),\n",
        "                     ('clf', LogisticRegression())\n",
        "  ])\n",
        "  parameters={\n",
        "      'vect__max_df':(0.25,0.5),\n",
        "      'vect__ngram_range':((1,1),(1,2)),\n",
        "      'vect__use_idf':(True,False),\n",
        "      'clf__C':(0.1,1,10),\n",
        "  }\n",
        "  X,y=df['Phrase'],df['Sentiment'].to_numpy()\n",
        "  X_train,X_test,y_train,y_test=train_test_split(X,y,train_size=0.5)\n",
        "  grid_search=GridSearchCV(pipeline,parameters,n_jobs=3,verbose=1,scoring='accuracy')\n",
        "  grid_search.fit(X_train,y_train)\n",
        "  print(\"Best score: %0.3f\" %grid_search.best_score_)\n",
        "  print(\"Best scores parameters set: \")\n",
        "  best_parameters=grid_search.best_estimator_.get_params() #The .best_estimator_ attribute is an instance of the specified model type,\n",
        "  # which has the 'best' combination of given parameters from the param_grid. \n",
        "  for param_name in sorted(parameters.keys()):\n",
        "    print('\\t%s: %r'%(param_name,best_parameters[param_name]))\n",
        "  predictions=grid_search.predict(X_test)\n",
        "  print(\"Accuracy: \", accuracy_score(y_test,predictions))\n",
        "  print(\"Confusion matrix: \", confusion_matrix(y_test, predictions))\n",
        "  print(\"Recall: \", classification_report(y_test, predictions))\n",
        "if __name__=='__main__':\n",
        "  main()"
      ],
      "execution_count": null,
      "outputs": [
        {
          "output_type": "stream",
          "text": [
            "Fitting 5 folds for each of 24 candidates, totalling 120 fits\n"
          ],
          "name": "stdout"
        },
        {
          "output_type": "stream",
          "text": [
            "[Parallel(n_jobs=3)]: Using backend LokyBackend with 3 concurrent workers.\n",
            "[Parallel(n_jobs=3)]: Done  44 tasks      | elapsed:  4.3min\n",
            "[Parallel(n_jobs=3)]: Done 120 out of 120 | elapsed: 11.8min finished\n",
            "/usr/local/lib/python3.6/dist-packages/sklearn/linear_model/_logistic.py:940: ConvergenceWarning: lbfgs failed to converge (status=1):\n",
            "STOP: TOTAL NO. of ITERATIONS REACHED LIMIT.\n",
            "\n",
            "Increase the number of iterations (max_iter) or scale the data as shown in:\n",
            "    https://scikit-learn.org/stable/modules/preprocessing.html\n",
            "Please also refer to the documentation for alternative solver options:\n",
            "    https://scikit-learn.org/stable/modules/linear_model.html#logistic-regression\n",
            "  extra_warning_msg=_LOGISTIC_SOLVER_CONVERGENCE_MSG)\n"
          ],
          "name": "stderr"
        },
        {
          "output_type": "stream",
          "text": [
            "Best score: 0.620\n",
            "Best scores parameters set: \n",
            "\tclf__C: 10\n",
            "\tvect__max_df: 0.25\n",
            "\tvect__ngram_range: (1, 2)\n",
            "\tvect__use_idf: False\n",
            "Accuracy:  0.6292579777008843\n",
            "Confusion matrix:  [[ 1051  1612   784   105    15]\n",
            " [  800  5284  6715   690    49]\n",
            " [  196  2791 33071  3601   213]\n",
            " [   19   435  6711  8121  1175]\n",
            " [    0    50   531  2437  1574]]\n",
            "Recall:                precision    recall  f1-score   support\n",
            "\n",
            "           0       0.51      0.29      0.37      3567\n",
            "           1       0.52      0.39      0.45     13538\n",
            "           2       0.69      0.83      0.75     39872\n",
            "           3       0.54      0.49      0.52     16461\n",
            "           4       0.52      0.34      0.41      4592\n",
            "\n",
            "    accuracy                           0.63     78030\n",
            "   macro avg       0.56      0.47      0.50     78030\n",
            "weighted avg       0.61      0.63      0.61     78030\n",
            "\n"
          ],
          "name": "stdout"
        }
      ]
    }
  ]
}